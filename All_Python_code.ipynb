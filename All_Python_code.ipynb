{
 "metadata": {
  "language_info": {
   "codemirror_mode": {
    "name": "ipython",
    "version": 3
   },
   "file_extension": ".py",
   "mimetype": "text/x-python",
   "name": "python",
   "nbconvert_exporter": "python",
   "pygments_lexer": "ipython3",
   "version": "3.9.4"
  },
  "orig_nbformat": 2,
  "kernelspec": {
   "name": "python394jvsc74a57bd0ee5cc6fef2d70a7e71ee3826687cbd150f18158e0b1eef11d4f4f92bb920e304",
   "display_name": "Python 3.9.4 64-bit"
  },
  "metadata": {
   "interpreter": {
    "hash": "ee5cc6fef2d70a7e71ee3826687cbd150f18158e0b1eef11d4f4f92bb920e304"
   }
  }
 },
 "nbformat": 4,
 "nbformat_minor": 2,
 "cells": [
  {
   "source": [
    "# PYTHON 3"
   ],
   "cell_type": "markdown",
   "metadata": {}
  },
  {
   "source": [
    "# Basic Syntax"
   ],
   "cell_type": "markdown",
   "metadata": {}
  },
  {
   "cell_type": "code",
   "execution_count": 2,
   "metadata": {},
   "outputs": [
    {
     "output_type": "stream",
     "name": "stdout",
     "text": [
      "hello\n50\nHello  110\n"
     ]
    }
   ],
   "source": [
    "print(\"hello\")\n",
    "print(50)\n",
    "print(\"Hello \",50+60)"
   ]
  },
  {
   "cell_type": "code",
   "execution_count": 3,
   "metadata": {},
   "outputs": [
    {
     "output_type": "stream",
     "name": "stdout",
     "text": [
      "30\n20\n"
     ]
    }
   ],
   "source": [
    "a=10\n",
    "b=20\n",
    "print(a+b)\n",
    "print(a*2)"
   ]
  },
  {
   "cell_type": "code",
   "execution_count": 4,
   "metadata": {},
   "outputs": [
    {
     "output_type": "stream",
     "name": "stdout",
     "text": [
      "helloworld\n"
     ]
    }
   ],
   "source": [
    "n = \"hello\"\n",
    "m = \"world\"\n",
    "print(n+m)"
   ]
  },
  {
   "source": [
    "# Data Type\n"
   ],
   "cell_type": "markdown",
   "metadata": {}
  },
  {
   "source": [
    "### 1.Number "
   ],
   "cell_type": "markdown",
   "metadata": {}
  },
  {
   "cell_type": "code",
   "execution_count": 7,
   "metadata": {},
   "outputs": [
    {
     "output_type": "stream",
     "name": "stdout",
     "text": [
      "<class 'int'>\n<class 'float'>\n<class 'complex'>\n"
     ]
    }
   ],
   "source": [
    "\n",
    "#int\n",
    "a = 10\n",
    "print(type(a))\n",
    "#float\n",
    "b = 10.5\n",
    "print(type(b))\n",
    "#complex\n",
    "c = 2+5j\n",
    "print(type(c))"
   ]
  },
  {
   "source": [
    "### 2.String"
   ],
   "cell_type": "markdown",
   "metadata": {}
  },
  {
   "cell_type": "code",
   "execution_count": 8,
   "metadata": {},
   "outputs": [
    {
     "output_type": "stream",
     "name": "stdout",
     "text": [
      "<class 'str'>\n"
     ]
    }
   ],
   "source": [
    "\n",
    "a = \"hello\"\n",
    "print(type(a))"
   ]
  },
  {
   "source": [
    "### 3. List\n",
    "#### > mutable"
   ],
   "cell_type": "markdown",
   "metadata": {}
  },
  {
   "source": [
    "\n",
    "l = [10,20,30,\"hello\"]\n",
    "print(type(l))\n",
    "#mutable\n",
    "del l[0]\n",
    "print(l)\n",
    "print(type(l))\n",
    "\n"
   ],
   "cell_type": "code",
   "metadata": {},
   "execution_count": null,
   "outputs": []
  },
  {
   "source": [
    "### 4. Tuple"
   ],
   "cell_type": "markdown",
   "metadata": {}
  },
  {
   "cell_type": "code",
   "execution_count": 17,
   "metadata": {},
   "outputs": [
    {
     "output_type": "stream",
     "name": "stdout",
     "text": [
      "<class 'tuple'>\n"
     ]
    }
   ],
   "source": [
    "t=(20,\"hello\")\n",
    "print(type(t))"
   ]
  },
  {
   "source": [
    "###  5. Dictionary"
   ],
   "cell_type": "markdown",
   "metadata": {}
  },
  {
   "cell_type": "code",
   "execution_count": 18,
   "metadata": {},
   "outputs": [
    {
     "output_type": "stream",
     "name": "stdout",
     "text": [
      "2 Months\n<class 'dict'>\n"
     ]
    }
   ],
   "source": [
    "d = {\n",
    "    'course_name':'python',\n",
    "    'duration':'2 Months'\n",
    "}\n",
    "print(d['duration'])\n",
    "print(type(d))"
   ]
  },
  {
   "source": [
    "### 6.Set"
   ],
   "cell_type": "markdown",
   "metadata": {}
  },
  {
   "cell_type": "code",
   "execution_count": 19,
   "metadata": {},
   "outputs": [
    {
     "output_type": "stream",
     "name": "stdout",
     "text": [
      "<class 'tuple'>\n"
     ]
    }
   ],
   "source": [
    "s=(10,20,30,10)\n",
    "print(type(s))"
   ]
  },
  {
   "source": [
    "# Conditional Statements"
   ],
   "cell_type": "markdown",
   "metadata": {}
  },
  {
   "source": [
    "## If - Else\n",
    "#### Equals: a == b\n",
    "#### Not Equals: a != b\n",
    "#### Less than: a < b\n",
    "#### Less than or equal to: a <= b\n",
    "#### Greater than: a > b\n",
    "#### Greater than or equal to: a >= b"
   ],
   "cell_type": "markdown",
   "metadata": {}
  },
  {
   "cell_type": "code",
   "execution_count": 24,
   "metadata": {},
   "outputs": [
    {
     "output_type": "stream",
     "name": "stdout",
     "text": [
      "7\n"
     ]
    }
   ],
   "source": [
    "#1. Calculate using if - else statement with user \n",
    "n1 = int(input(\"enter the value 1: - \"))\n",
    "n2 = int(input(\"enter the value 2: - \"))\n",
    "opr = input(\"enter the opr : - +,-,*,/\")\n",
    "\n",
    "if opr=='+':\n",
    "  print(n1+n2)\n",
    "elif opr=='-':\n",
    "  print(n1-n2)\n",
    "elif opr=='*':\n",
    "  print(n1*n2)\n",
    "else opr=='/':\n",
    "  print(n1/n2)\n"
   ]
  },
  {
   "cell_type": "code",
   "execution_count": 25,
   "metadata": {},
   "outputs": [
    {
     "output_type": "stream",
     "name": "stdout",
     "text": [
      "5 Odd number\n"
     ]
    }
   ],
   "source": [
    "#2. find even odd using if-else Statement\n",
    "n = int(input(\"enter the value : - \"))\n",
    "if(n%2==0):\n",
    "    print(n,\"Even number\")\n",
    "else:\n",
    "    print(n,\"Odd number\")"
   ]
  },
  {
   "cell_type": "code",
   "execution_count": 22,
   "metadata": {},
   "outputs": [
    {
     "output_type": "stream",
     "name": "stdout",
     "text": [
      "Both conditions are True\n"
     ]
    }
   ],
   "source": [
    "#AND\n",
    "#3. Test if a is greater than b, AND if c is greater than a:\n",
    "a = 200\n",
    "b = 33\n",
    "c = 500\n",
    "if a > b and c > a:\n",
    "  print(\"Both conditions are True\")"
   ]
  },
  {
   "cell_type": "code",
   "execution_count": 23,
   "metadata": {},
   "outputs": [
    {
     "output_type": "stream",
     "name": "stdout",
     "text": [
      "At least one of the conditions is True\n"
     ]
    }
   ],
   "source": [
    "#OR\n",
    "# Test if a is greater than b, OR if a is greater than c:\n",
    "\n",
    "a = 200\n",
    "b = 33\n",
    "c = 500\n",
    "if a > b or a > c:\n",
    "  print(\"At least one of the conditions is True\")\n"
   ]
  },
  {
   "source": [
    "## While Loop\n",
    "### Syntax\n",
    "### while condition:\n",
    "###     \"Body of while loop\"\n",
    "###     conditional control statement "
   ],
   "cell_type": "markdown",
   "metadata": {}
  },
  {
   "cell_type": "code",
   "execution_count": 28,
   "metadata": {},
   "outputs": [
    {
     "output_type": "stream",
     "name": "stdout",
     "text": [
      "5 * 1 = 5\n5 * 2 = 10\n5 * 3 = 15\n5 * 4 = 20\n5 * 5 = 25\n5 * 6 = 30\n5 * 7 = 35\n5 * 8 = 40\n5 * 9 = 45\n5 * 10 = 50\n"
     ]
    }
   ],
   "source": [
    "#print table of any number\n",
    "tvalue = int(input(\"Enter the value:- \"))\n",
    "i = 1\n",
    "while i <=10:\n",
    "    print(tvalue,\"*\",i,\"=\",i * tvalue)\n",
    "    i = i+1 "
   ]
  },
  {
   "cell_type": "code",
   "execution_count": 29,
   "metadata": {},
   "outputs": [
    {
     "output_type": "stream",
     "name": "stdout",
     "text": [
      "2450\n"
     ]
    }
   ],
   "source": [
    "#Sum of all even number from 1 to 100 including both\n",
    "total = 0\n",
    "i =1 \n",
    "while i <100:\n",
    "    if(i%2==0):\n",
    "        total = total +i\n",
    "    i =i+1\n",
    "print(total)"
   ]
  },
  {
   "cell_type": "code",
   "execution_count": 31,
   "metadata": {},
   "outputs": [
    {
     "output_type": "stream",
     "name": "stdout",
     "text": [
      "1 IIP\n2 Wscubetech\n3 IIP ACADEMY\n4 IIP\n5 IIP\n6 IIP\n7 IIP\n8 IIP\n9 IIP\n"
     ]
    }
   ],
   "source": [
    "\n",
    "i =1 \n",
    "while i <10:\n",
    "    if i==2:\n",
    "        print(i,\"Wscubetech\")\n",
    "    elif i==3:\n",
    "        print(i,\"IIP ACADEMY\")\n",
    "    else:\n",
    "        print(i,\"IIP\")\n",
    "    i =i+1\n"
   ]
  },
  {
   "source": [
    "## For -Loop\n",
    "### Syntax\n",
    "### for a in range(start,end):\n",
    "###     \"body of for\""
   ],
   "cell_type": "markdown",
   "metadata": {}
  },
  {
   "cell_type": "code",
   "execution_count": 33,
   "metadata": {},
   "outputs": [
    {
     "output_type": "stream",
     "name": "stdout",
     "text": [
      "5 * 1 = 5\n5 * 2 = 10\n5 * 3 = 15\n5 * 4 = 20\n5 * 5 = 25\n5 * 6 = 30\n5 * 7 = 35\n5 * 8 = 40\n5 * 9 = 45\n5 * 10 = 50\n"
     ]
    }
   ],
   "source": [
    "#write a programme to print table of any number\n",
    "tvalue = int(input(\"enter the value : - \"))\n",
    "for a in range(1,11):\n",
    "    print(tvalue ,\"*\",a,\"=\",a*tvalue)"
   ]
  },
  {
   "cell_type": "code",
   "execution_count": 35,
   "metadata": {},
   "outputs": [
    {
     "output_type": "stream",
     "name": "stdout",
     "text": [
      "1\n4\n9\n16\n25\n36\n49\n64\n81\n100\n"
     ]
    }
   ],
   "source": [
    "#write a progeamme to find square of 1 -10 number\n",
    "for x in range(1,11):\n",
    "    print(x*x)"
   ]
  },
  {
   "cell_type": "code",
   "execution_count": 36,
   "metadata": {},
   "outputs": [
    {
     "output_type": "stream",
     "name": "stdout",
     "text": [
      "w\ne\nl\nc\no\nm\ne\n \n"
     ]
    }
   ],
   "source": [
    "#Iterating of a string:\n",
    "#   w = 'welcome to wscube tech'\n",
    "w = \"welcome \"\n",
    "for a in w:\n",
    "    print(a)"
   ]
  },
  {
   "cell_type": "code",
   "execution_count": 37,
   "metadata": {},
   "outputs": [
    {
     "output_type": "stream",
     "name": "stdout",
     "text": [
      "10\n20\n30\n"
     ]
    }
   ],
   "source": [
    "w = [10,20,30]\n",
    "for a in w:\n",
    "    print(a)"
   ]
  },
  {
   "cell_type": "code",
   "execution_count": 38,
   "metadata": {},
   "outputs": [
    {
     "output_type": "stream",
     "name": "stdout",
     "text": [
      "4\n"
     ]
    }
   ],
   "source": [
    "# Find the count of substring i main string \n",
    "#   main_string = 'WsCube Tech , jodhpur'\n",
    "#   sub_string = 'e'\n",
    "w = \"welcome to wscube tech  \"\n",
    "c=0\n",
    "for a in w:\n",
    "    if a=='e':\n",
    "        c=c+1\n",
    "print(c)\n",
    "\n"
   ]
  },
  {
   "source": [
    "## Break / Continue Statement\n"
   ],
   "cell_type": "markdown",
   "metadata": {}
  },
  {
   "cell_type": "code",
   "execution_count": 2,
   "metadata": {},
   "outputs": [
    {
     "output_type": "stream",
     "name": "stdout",
     "text": [
      "1\n2\n3\n4\n"
     ]
    }
   ],
   "source": [
    "#Break\n",
    "i =1 \n",
    "while i <=10:\n",
    "    if i == 5:\n",
    "        break\n",
    "    print(i)\n",
    "    i = i+1"
   ]
  },
  {
   "cell_type": "code",
   "execution_count": 3,
   "metadata": {},
   "outputs": [
    {
     "output_type": "stream",
     "name": "stdout",
     "text": [
      "1\n2\n3\n4\n6\n7\n8\n9\n10\n11\n"
     ]
    }
   ],
   "source": [
    "#continue\n",
    "a =0 \n",
    "while a <=10:\n",
    "    a = a+1\n",
    "    if a == 5:\n",
    "        continue\n",
    "    print(a)\n",
    "    "
   ]
  },
  {
   "source": [
    "# String"
   ],
   "cell_type": "markdown",
   "metadata": {}
  },
  {
   "cell_type": "code",
   "execution_count": 7,
   "metadata": {},
   "outputs": [
    {
     "output_type": "stream",
     "name": "stdout",
     "text": [
      "h[4] o\nh[7] S\nh[-1] S\nh[0:3] Hel\nh[0:5] Hello\nh[0:] Hello WS\nh[6:] WS\nh[0::3] HlW\nh[-1::-1] SW olleH\nh[-1::-2] S le\n"
     ]
    }
   ],
   "source": [
    "h = \"Hello WS\"\n",
    "print(\"h[4]\",h[4])\n",
    "\n",
    "print(\"h[7]\",h[7])\n",
    "print(\"h[-1]\",h[-1])\n",
    "\n",
    "print(\"h[0:3]\",h[0:3])\n",
    "print(\"h[0:5]\",h[0:5])\n",
    "print(\"h[0:]\",h[0:])\n",
    "print(\"h[6:]\",h[6:])\n",
    "\n",
    "print(\"h[0::3]\",h[0::3])\n",
    "\n",
    "print(\"h[-1::-1]\",h[-1::-1])\n",
    "print(\"h[-1::-2]\",h[-1::-2])"
   ]
  },
  {
   "cell_type": "code",
   "execution_count": 8,
   "metadata": {},
   "outputs": [
    {
     "output_type": "stream",
     "name": "stdout",
     "text": [
      "7\nw\ne\nl\nc\no\nm\ne\n"
     ]
    }
   ],
   "source": [
    "#string iteration\n",
    "h = \"welcome\"\n",
    "t = len(h)\n",
    "print(t)\n",
    "\n",
    "for a in range(t):\n",
    "    print(h[a])"
   ]
  },
  {
   "cell_type": "code",
   "execution_count": 10,
   "metadata": {},
   "outputs": [
    {
     "output_type": "stream",
     "name": "stdout",
     "text": [
      "2\n"
     ]
    }
   ],
   "source": [
    "\n",
    "h = \"welcome to wscube tech\"\n",
    "c = 0\n",
    "for a in h:\n",
    "    if a=='w':\n",
    "        c=c+1\n",
    "print(c)"
   ]
  },
  {
   "cell_type": "code",
   "execution_count": 3,
   "metadata": {},
   "outputs": [
    {
     "output_type": "stream",
     "name": "stdout",
     "text": [
      "6\n"
     ]
    }
   ],
   "source": [
    "#count the revese of string\n",
    "def reverse(string):\n",
    "    c=0\n",
    "    string1 = string[::-1]\n",
    "    h = len(string)\n",
    "    for a in range(h):\n",
    "        if(string[a] == string1[a]):\n",
    "            c = c+1\n",
    "            \n",
    "    \n",
    "    \n",
    "    return c\n",
    "s = \"mmmohitmmm\"\n",
    "print (reverse(s))"
   ]
  },
  {
   "cell_type": "code",
   "execution_count": null,
   "metadata": {},
   "outputs": [],
   "source": [
    "--------------"
   ]
  },
  {
   "source": [
    "# Functions\n"
   ],
   "cell_type": "markdown",
   "metadata": {}
  },
  {
   "source": [
    "## User Define Function\n",
    "### Creating a Function\n",
    "###\n",
    "### def showdata():\n",
    "###     print(\"welcome\")\n",
    "###\n",
    "### Calling the Function\n",
    "###\n",
    "### showdata()"
   ],
   "cell_type": "markdown",
   "metadata": {}
  },
  {
   "cell_type": "code",
   "execution_count": 16,
   "metadata": {},
   "outputs": [
    {
     "output_type": "stream",
     "name": "stdout",
     "text": [
      "welcome\nwelcome\n"
     ]
    }
   ],
   "source": [
    "def showdata():\n",
    "    print(\"welcome\")\n",
    "     \n",
    "showdata()\n",
    "showdata()\n",
    "showdata()"
   ]
  },
  {
   "cell_type": "code",
   "execution_count": 18,
   "metadata": {},
   "outputs": [
    {
     "output_type": "stream",
     "name": "stdout",
     "text": [
      "30\n60\n"
     ]
    }
   ],
   "source": [
    "def sum(a,b):\n",
    "    print(a+b)\n",
    "sum(20,10)\n",
    "sum(40,20)"
   ]
  },
  {
   "cell_type": "code",
   "execution_count": 19,
   "metadata": {},
   "outputs": [
    {
     "output_type": "stream",
     "name": "stdout",
     "text": [
      "21\n60\n"
     ]
    }
   ],
   "source": [
    "def sum(a,b=1):\n",
    "    print(a+b)\n",
    "sum(20)\n",
    "sum(40,20)"
   ]
  },
  {
   "cell_type": "code",
   "execution_count": 20,
   "metadata": {},
   "outputs": [
    {
     "output_type": "stream",
     "name": "stdout",
     "text": [
      "(25, 10)\n"
     ]
    }
   ],
   "source": [
    "def square(x):\n",
    "    return x*x,x*2\n",
    "s= square(5)\n",
    "print(s)"
   ]
  },
  {
   "cell_type": "code",
   "execution_count": 4,
   "metadata": {},
   "outputs": [
    {
     "output_type": "stream",
     "name": "stdout",
     "text": [
      "Count of squares is: 3\n"
     ]
    }
   ],
   "source": [
    "def CountSquares(a, b):\n",
    " \n",
    "    cnt = 0 # initialize result\n",
    " \n",
    "    # Traverse through all numbers\n",
    "    for i in range (a, b + 1):\n",
    "        j = 1;\n",
    "        while j * j <= i:\n",
    "            if j * j == i:\n",
    "                 cnt = cnt + 1\n",
    "            j = j + 1\n",
    "        i = i + 1\n",
    "    return cnt\n",
    " \n",
    "# Driver Code\n",
    "a = 9\n",
    "b = 25\n",
    "print(\"Count of squares is:\", CountSquares(a, b))"
   ]
  },
  {
   "source": [
    "## Math function"
   ],
   "cell_type": "markdown",
   "metadata": {}
  },
  {
   "cell_type": "code",
   "execution_count": 26,
   "metadata": {},
   "outputs": [
    {
     "output_type": "stream",
     "name": "stdout",
     "text": [
      "13\n10.0\n120\n11\n100.0\n9.0\n"
     ]
    }
   ],
   "source": [
    "import math\n",
    "x = 12.8\n",
    "print(math.ceil(x))\n",
    "x = 10\n",
    "print(math.fabs(x))\n",
    "x = 5\n",
    "print(math.factorial(x))\n",
    "x = 11.5\n",
    "print(math.floor(x))\n",
    "l = [10,20,30,40]\n",
    "print(math.fsum(l))\n",
    "print(math.sqrt(81))\n"
   ]
  },
  {
   "source": [
    "# File Handling"
   ],
   "cell_type": "markdown",
   "metadata": {}
  },
  {
   "source": [
    "## Read Files \n",
    "\n",
    "    "
   ],
   "cell_type": "markdown",
   "metadata": {}
  },
  {
   "source": [
    "### read()"
   ],
   "cell_type": "markdown",
   "metadata": {}
  },
  {
   "cell_type": "code",
   "execution_count": 47,
   "metadata": {},
   "outputs": [
    {
     "output_type": "stream",
     "name": "stdout",
     "text": [
      "welcome to wscubetech\n\nhello\n"
     ]
    }
   ],
   "source": [
    "file = open(\"text.txt\",\"r\")\n",
    "print(file.readline())\n",
    "print(file.readline())\n",
    "\n",
    "file.close()"
   ]
  },
  {
   "source": [
    "### readline()"
   ],
   "cell_type": "markdown",
   "metadata": {}
  },
  {
   "cell_type": "code",
   "execution_count": 48,
   "metadata": {},
   "outputs": [
    {
     "output_type": "stream",
     "name": "stdout",
     "text": [
      "welcome to wscubetech\n\nhello\n"
     ]
    }
   ],
   "source": [
    "file = open(\"text.txt\",\"r\")\n",
    "l=file.readlines()\n",
    "for n in l:\n",
    "    print(n)\n",
    "\n",
    "file.close()"
   ]
  },
  {
   "cell_type": "code",
   "execution_count": null,
   "metadata": {},
   "outputs": [],
   "source": [
    "file = open(\"text.txt\",\"r\")\n",
    "print(file.readline(7))\n",
    "print(file.read(7))\n",
    "\n",
    "file.close()"
   ]
  },
  {
   "source": [
    "## Write files"
   ],
   "cell_type": "markdown",
   "metadata": {}
  },
  {
   "source": [
    "### write()"
   ],
   "cell_type": "markdown",
   "metadata": {}
  },
  {
   "cell_type": "code",
   "execution_count": 42,
   "metadata": {},
   "outputs": [],
   "source": [
    "file = open(\"text.txt\",\"w\")\n",
    "file.write(\"welcome to wscubetech\")\n",
    "file.write(\"\\nhello\")\n",
    "file.close()"
   ]
  },
  {
   "source": [
    "### writeline"
   ],
   "cell_type": "markdown",
   "metadata": {}
  },
  {
   "cell_type": "code",
   "execution_count": 32,
   "metadata": {},
   "outputs": [],
   "source": [
    "file = open(\"text.txt\",\"w\")\n",
    "l = [\"hello\",\"Wscubetech\",\"python\"]\n",
    "file.writelines(l)\n",
    "file.close()\n"
   ]
  },
  {
   "cell_type": "code",
   "execution_count": 35,
   "metadata": {},
   "outputs": [],
   "source": [
    "l = [\"hello\",\"Wscubetech\",\"python\"]\n",
    "with open(\"text.txt\",\"w\")as file:\n",
    "    file.writelines(l)"
   ]
  },
  {
   "source": [
    "## Append"
   ],
   "cell_type": "markdown",
   "metadata": {}
  },
  {
   "cell_type": "code",
   "execution_count": 52,
   "metadata": {},
   "outputs": [],
   "source": [
    "file = open(\"text.txt\",\"a\")\n",
    "\n",
    "file.write(\"\\npython\")\n",
    "file.close()"
   ]
  },
  {
   "source": [
    "## Pickle"
   ],
   "cell_type": "markdown",
   "metadata": {}
  },
  {
   "cell_type": "code",
   "execution_count": 54,
   "metadata": {},
   "outputs": [],
   "source": [
    "import pickle\n",
    "l = [10,20,30,40] \n",
    "file = open(\"writedata.txt\",\"wb\")\n",
    "pickle.dump(l,file)\n",
    "file.close()"
   ]
  },
  {
   "cell_type": "code",
   "execution_count": 55,
   "metadata": {},
   "outputs": [
    {
     "output_type": "stream",
     "name": "stdout",
     "text": [
      "[10, 20, 30, 40]\n"
     ]
    }
   ],
   "source": [
    "import pickle\n",
    "\n",
    "file = open(\"writedata.txt\",\"rb\")\n",
    "pickle.load(file)\n",
    "print(l)\n",
    "file.close()"
   ]
  },
  {
   "source": [
    "# Class & Object"
   ],
   "cell_type": "markdown",
   "metadata": {}
  },
  {
   "source": [
    "## Class & Object"
   ],
   "cell_type": "markdown",
   "metadata": {}
  },
  {
   "cell_type": "code",
   "execution_count": 57,
   "metadata": {},
   "outputs": [
    {
     "output_type": "stream",
     "name": "stdout",
     "text": [
      "10\n10\n"
     ]
    }
   ],
   "source": [
    "class DemoClass:\n",
    "    a=10\n",
    "demoobject = DemoClass() \n",
    "demoobject1 = DemoClass()\n",
    "print(demoobject.a)\n",
    "print(demoobject1.a) "
   ]
  },
  {
   "cell_type": "code",
   "execution_count": 59,
   "metadata": {},
   "outputs": [
    {
     "output_type": "stream",
     "name": "stdout",
     "text": [
      "10\n10\n50\n"
     ]
    }
   ],
   "source": [
    "class DemoClass:\n",
    "    a=10\n",
    "    def sumvalue(self):\n",
    "        print(20+30)\n",
    "demoobject = DemoClass() \n",
    "demoobject1 = DemoClass()\n",
    "print(demoobject.a)\n",
    "print(demoobject1.a)\n",
    "demoobject.sumvalue();"
   ]
  },
  {
   "source": [
    "## Method , Construction"
   ],
   "cell_type": "markdown",
   "metadata": {}
  },
  {
   "cell_type": "code",
   "execution_count": 62,
   "metadata": {},
   "outputs": [
    {
     "output_type": "stream",
     "name": "stdout",
     "text": [
      "10\n"
     ]
    }
   ],
   "source": [
    "class DemoClass:\n",
    "    a=10\n",
    "    def showvalue(self):\n",
    "        print(self.a)\n",
    "obj = DemoClass() \n",
    "obj.showvalue()"
   ]
  },
  {
   "cell_type": "code",
   "execution_count": 64,
   "metadata": {},
   "outputs": [
    {
     "output_type": "stream",
     "name": "stdout",
     "text": [
      "welcome\n20\n50\n"
     ]
    }
   ],
   "source": [
    "class DemoClass:\n",
    "    a=10\n",
    "    def __init__(self):\n",
    "        print(\"welcome\")\n",
    "    def showvalue(self):\n",
    "        self.c =self.a+self.a\n",
    "        print(self.c)\n",
    "    def showvalue1(self,a,b):\n",
    "        print(a+b)\n",
    "\n",
    "obj = DemoClass() \n",
    "obj.showvalue()\n",
    "obj.showvalue1(20,30)\n",
    "    \n"
   ]
  },
  {
   "source": [
    "## Inheritance"
   ],
   "cell_type": "markdown",
   "metadata": {}
  },
  {
   "source": [
    "### Single inheritance"
   ],
   "cell_type": "markdown",
   "metadata": {}
  },
  {
   "cell_type": "code",
   "execution_count": 68,
   "metadata": {},
   "outputs": [
    {
     "output_type": "stream",
     "name": "stdout",
     "text": [
      "welcome to wscubetech A\nwelcome to wscubetech B\n"
     ]
    }
   ],
   "source": [
    "class A:\n",
    "    def displayA(self):\n",
    "        print(\"welcome to wscubetech A\")\n",
    "class B(A):\n",
    "    def displayB(self):\n",
    "        print(\"welcome to wscubetech B\")\n",
    "obj = B()\n",
    "obj.displayA()\n",
    "obj.displayB()"
   ]
  },
  {
   "source": [
    "### Multilevel inheritance"
   ],
   "cell_type": "markdown",
   "metadata": {}
  },
  {
   "cell_type": "code",
   "execution_count": 72,
   "metadata": {},
   "outputs": [
    {
     "output_type": "stream",
     "name": "stdout",
     "text": [
      "welcome to wscubetech A\nwelcome to wscubetech B\nwelcome to wscubetech C\n"
     ]
    }
   ],
   "source": [
    "class A:\n",
    "    def displayA(self):\n",
    "        print(\"welcome to wscubetech A\")\n",
    "class B(A):\n",
    "    def displayB(self):\n",
    "        print(\"welcome to wscubetech B\")\n",
    "class C(B):\n",
    "    def displayC(self):\n",
    "        print(\"welcome to wscubetech C\")\n",
    "obj = C()\n",
    "obj.displayA()\n",
    "obj.displayB()\n",
    "obj.displayC()"
   ]
  },
  {
   "source": [
    "### Multiple inheritance"
   ],
   "cell_type": "markdown",
   "metadata": {}
  },
  {
   "cell_type": "code",
   "execution_count": 73,
   "metadata": {},
   "outputs": [
    {
     "output_type": "stream",
     "name": "stdout",
     "text": [
      "welcome to wscubetech A\nwelcome to wscubetech B\nwelcome to wscubetech C\n"
     ]
    }
   ],
   "source": [
    "class A:\n",
    "    def displayA(self):\n",
    "        print(\"welcome to wscubetech A\")\n",
    "class B:\n",
    "    def displayB(self):\n",
    "        print(\"welcome to wscubetech B\")\n",
    "class C(A,B):\n",
    "    def displayC(self):\n",
    "        print(\"welcome to wscubetech C\")\n",
    "obj = C()\n",
    "obj.displayA()\n",
    "obj.displayB()\n",
    "obj.displayC()"
   ]
  },
  {
   "source": [
    "## Getter and setter"
   ],
   "cell_type": "markdown",
   "metadata": {}
  },
  {
   "cell_type": "code",
   "execution_count": 76,
   "metadata": {},
   "outputs": [
    {
     "output_type": "stream",
     "name": "stdout",
     "text": [
      "Testing\n"
     ]
    }
   ],
   "source": [
    "class Student:\n",
    "    def __init__(self):\n",
    "        self.__name= \" \"\n",
    "    def getname(self):\n",
    "        return self.__name\n",
    "    def setname(self,name):\n",
    "        self.__name=name\n",
    "\n",
    "obj = Student()\n",
    "obj.setname(\"Testing\")\n",
    "name = obj.getname()\n",
    "print(name)"
   ]
  },
  {
   "source": [
    "## Encapsulation"
   ],
   "cell_type": "markdown",
   "metadata": {}
  },
  {
   "cell_type": "code",
   "execution_count": 81,
   "metadata": {},
   "outputs": [
    {
     "output_type": "stream",
     "name": "stdout",
     "text": [
      "Ravi\nwelcome to wscubetech\n"
     ]
    }
   ],
   "source": [
    "class Student:\n",
    "    __name=\"Ravi\"\n",
    "    def __init__(self):\n",
    "        print(self.__name)\n",
    "        self.__displayinfo()\n",
    "    def __displayinfo(self):\n",
    "        print(\"welcome to wscubetech\")\n",
    "\n",
    "obj = Student()\n"
   ]
  },
  {
   "source": [
    "## Polymorphism"
   ],
   "cell_type": "markdown",
   "metadata": {}
  },
  {
   "cell_type": "code",
   "execution_count": 83,
   "metadata": {},
   "outputs": [
    {
     "output_type": "stream",
     "name": "stdout",
     "text": [
      "welcome to wscubetech\nwelcome to wscubetechPython\n"
     ]
    }
   ],
   "source": [
    "class Ws:\n",
    "    def displayinfo(self,name= ''):\n",
    "        print(\"welcome to wscubetech\"+name)\n",
    "obj = Ws()\n",
    "obj.displayinfo()\n",
    "obj.displayinfo('Python')"
   ]
  },
  {
   "cell_type": "code",
   "execution_count": 85,
   "metadata": {},
   "outputs": [
    {
     "output_type": "stream",
     "name": "stdout",
     "text": [
      "welcome to wscubetech\n"
     ]
    }
   ],
   "source": [
    "class Ws:\n",
    "    def displayinfo(self):\n",
    "        print(\"welcome to wscubetech\")\n",
    "class IIP(Ws):\n",
    "    def displayinfo(self):\n",
    "        super().displayinfo()\n",
    "        print(\"welcome to IIP\")\n",
    "obj = Ws()\n",
    "obj.displayinfo()\n"
   ]
  },
  {
   "source": [
    "## Try & Except"
   ],
   "cell_type": "markdown",
   "metadata": {}
  },
  {
   "cell_type": "code",
   "execution_count": 86,
   "metadata": {},
   "outputs": [
    {
     "output_type": "stream",
     "name": "stdout",
     "text": [
      "Zero division error\nwelcome to wscube\n"
     ]
    }
   ],
   "source": [
    "try:\n",
    "    a = int(input(\"enter the value1 : \"))\n",
    "    b = int(input(\"enter the value2 : \"))\n",
    "    print(a/b)\n",
    "except:\n",
    "    print(\"Zero division error\")\n",
    "print(\"welcome to wscube\")"
   ]
  },
  {
   "source": [
    "### ZeroDivisionError"
   ],
   "cell_type": "markdown",
   "metadata": {}
  },
  {
   "cell_type": "code",
   "execution_count": 88,
   "metadata": {},
   "outputs": [
    {
     "output_type": "stream",
     "name": "stdout",
     "text": [
      "division by zero\nwelcome to wscube\n"
     ]
    }
   ],
   "source": [
    "try:\n",
    "    a = int(input(\"enter the value1 : \"))\n",
    "    b = int(input(\"enter the value2 : \"))\n",
    "    print(a/b)\n",
    "except ZeroDivisionError as Ze:\n",
    "    print(Ze)\n",
    "print(\"welcome to wscube\")"
   ]
  },
  {
   "source": [
    "### Nameerror"
   ],
   "cell_type": "markdown",
   "metadata": {}
  },
  {
   "cell_type": "code",
   "execution_count": 89,
   "metadata": {},
   "outputs": [
    {
     "output_type": "stream",
     "name": "stdout",
     "text": [
      "0\nwelcome to wscube\n"
     ]
    }
   ],
   "source": [
    "try:\n",
    "    print(b)\n",
    "except NameError as n:\n",
    "    print(n)\n",
    "print(\"welcome to wscube\")"
   ]
  },
  {
   "source": [
    "### IndexError"
   ],
   "cell_type": "markdown",
   "metadata": {}
  },
  {
   "cell_type": "code",
   "execution_count": 90,
   "metadata": {},
   "outputs": [
    {
     "output_type": "stream",
     "name": "stdout",
     "text": [
      "list index out of range\nwelcome to wscube\n"
     ]
    }
   ],
   "source": [
    "try:\n",
    "    l = [1,2,3,4]\n",
    "    print(l[4])\n",
    "except IndexError as i:\n",
    "    print(i)\n",
    "print(\"welcome to wscube\")"
   ]
  },
  {
   "source": [
    "### TypeError"
   ],
   "cell_type": "markdown",
   "metadata": {}
  },
  {
   "cell_type": "code",
   "execution_count": 91,
   "metadata": {},
   "outputs": [
    {
     "output_type": "stream",
     "name": "stdout",
     "text": [
      "can only concatenate str (not \"int\") to str\nwelcome to wscube\n"
     ]
    }
   ],
   "source": [
    "try:\n",
    "    print('2'+2)\n",
    "except TypeError as t:\n",
    "    print(t)\n",
    "print(\"welcome to wscube\")"
   ]
  },
  {
   "source": [
    "### ValueError"
   ],
   "cell_type": "markdown",
   "metadata": {}
  },
  {
   "cell_type": "code",
   "execution_count": 92,
   "metadata": {},
   "outputs": [
    {
     "output_type": "stream",
     "name": "stdout",
     "text": [
      "invalid literal for int() with base 10: 'hello'\nwelcome to wscube\n"
     ]
    }
   ],
   "source": [
    "try:\n",
    "    a = int(input(\"enter the value : \"))\n",
    "    \n",
    "    print(a)\n",
    "except ValueError as v:\n",
    "    print(v)\n",
    "print(\"welcome to wscube\")"
   ]
  },
  {
   "cell_type": "code",
   "execution_count": null,
   "metadata": {},
   "outputs": [],
   "source": []
  }
 ]
}